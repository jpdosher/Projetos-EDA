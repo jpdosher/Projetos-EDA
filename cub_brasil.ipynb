{
  "nbformat": 4,
  "nbformat_minor": 0,
  "metadata": {
    "colab": {
      "name": "cub_brasil.ipynb",
      "provenance": [],
      "collapsed_sections": [
        "TlU4AuGzJk_3"
      ],
      "mount_file_id": "10k-V13lbY2a_bNBEOW00KHkCjYV8CENy",
      "authorship_tag": "ABX9TyPXFFudkL6uIN1BpAzsTCy/",
      "include_colab_link": true
    },
    "kernelspec": {
      "name": "python3",
      "display_name": "Python 3"
    },
    "language_info": {
      "name": "python"
    }
  },
  "cells": [
    {
      "cell_type": "markdown",
      "metadata": {
        "id": "view-in-github",
        "colab_type": "text"
      },
      "source": [
        "<a href=\"https://colab.research.google.com/github/jpdosher/projetos_EDA/blob/main/cub_brasil.ipynb\" target=\"_parent\"><img src=\"https://colab.research.google.com/assets/colab-badge.svg\" alt=\"Open In Colab\"/></a>"
      ]
    },
    {
      "cell_type": "markdown",
      "metadata": {
        "id": "Vomqk7TBONpt"
      },
      "source": [
        "#<font color='DarkBlue'>**Índice CUB Brasil** "
      ]
    },
    {
      "cell_type": "markdown",
      "metadata": {
        "id": "G-odamGD_AIv"
      },
      "source": [
        "O objetivo deste notebook é a princípio fazer uma boa análise dos dados e testar/aprender um pouco.\n",
        "\n",
        "O Custo Unitário Básico de Construção (CUB) é um indicador de custos no setor da construção calculado e divulgado pelos Sinduscons estatuais e regido pela Lei Federal 4.591/64.\n",
        "O CUB Brasil é uma média ponderada dos indicadores de alguns dos principais estados da federação. Este tópico contém informações sobre a evolução do CUB Brasil e dos estados que o compõem.\n",
        "\n",
        "**Fontes:**\n",
        "> CBIC-Câmara Brasileira da Indústria da Construção - \"http://www.cbicdados.com.br/menu/custo-da-construcao/cub-medio-brasil-custo-unitario-basico-de-construcao-por-m2\"\n",
        "\n",
        "\n",
        ">SINAPI: https://www.caixa.gov.br/poder-publico/modernizacao-gestao/sinapi/Paginas/default.aspx\n",
        "\n",
        ">Câmara brasileira da industria da Construção: http://www.cub.org.br/cub-m2-brasil\n",
        "\n"
      ]
    },
    {
      "cell_type": "markdown",
      "metadata": {
        "id": "MMJg8yc8M_Wj"
      },
      "source": [
        "#<font color='DarkBlue'>Importando dados, pré-visualização, pré-análise e primeiras transformações"
      ]
    },
    {
      "cell_type": "markdown",
      "metadata": {
        "id": "Ef3HCGdxNlDV"
      },
      "source": [
        "### Montando drive\n",
        "\"drive.mount('/content/drive/Mydrive')\"\n",
        "\n",
        "\n",
        "\n",
        " Após a montagem é necessário autenticação para vinvular a conta do Drive com o Colab.\n",
        "\n",
        ">O Colab disponibilizou uma função de mount direto no menu de arquivos do notebook. Então, pare este notebook deixarei apenas como notação \"carregando pacote\" e \"montando drive\" via código.\n",
        "\n"
      ]
    },
    {
      "cell_type": "code",
      "metadata": {
        "id": "Wj5anEyiHu3z"
      },
      "source": [
        "import pandas as pd\n",
        "import numpy as np\n",
        "import matplotlib.pyplot as plt\n",
        "import seaborn as sns\n",
        "\n"
      ],
      "execution_count": null,
      "outputs": []
    },
    {
      "cell_type": "code",
      "metadata": {
        "id": "S0wT9ZjbMVaN"
      },
      "source": [
        "df = pd.read_csv('/content/drive/MyDrive/Data Science/Dataset/df_cub_index.csv',parse_dates=True) \n",
        "#leitura do arquivo do Google Drive"
      ],
      "execution_count": null,
      "outputs": []
    },
    {
      "cell_type": "markdown",
      "metadata": {
        "id": "3NAbvfPKP61T"
      },
      "source": [
        "---"
      ]
    },
    {
      "cell_type": "markdown",
      "metadata": {
        "id": "GrAm8dhjoUsz"
      },
      "source": [
        "## Pré-visualizando os dados carregados"
      ]
    },
    {
      "cell_type": "markdown",
      "metadata": {
        "id": "ZHdXTvKx-zru"
      },
      "source": [
        "Vamos dar uma olhada nesses dados :"
      ]
    },
    {
      "cell_type": "code",
      "metadata": {
        "colab": {
          "base_uri": "https://localhost:8080/"
        },
        "id": "SVtTnBwwGayo",
        "outputId": "df4bd718-4c23-4496-e67f-dab973e1ec26"
      },
      "source": [
        "df.shape"
      ],
      "execution_count": null,
      "outputs": [
        {
          "output_type": "execute_result",
          "data": {
            "text/plain": [
              "(3548, 9)"
            ]
          },
          "metadata": {},
          "execution_count": 3
        }
      ]
    },
    {
      "cell_type": "code",
      "metadata": {
        "id": "Z5nHHrD_OJTF",
        "colab": {
          "base_uri": "https://localhost:8080/",
          "height": 206
        },
        "outputId": "d9346b1e-c1a1-43d4-e176-4c3d3e5575cb"
      },
      "source": [
        "df.head()"
      ],
      "execution_count": null,
      "outputs": [
        {
          "output_type": "execute_result",
          "data": {
            "text/html": [
              "\n",
              "  <div id=\"df-bc8cab3e-1628-4626-ac91-5482cb77e22c\">\n",
              "    <div class=\"colab-df-container\">\n",
              "      <div>\n",
              "<style scoped>\n",
              "    .dataframe tbody tr th:only-of-type {\n",
              "        vertical-align: middle;\n",
              "    }\n",
              "\n",
              "    .dataframe tbody tr th {\n",
              "        vertical-align: top;\n",
              "    }\n",
              "\n",
              "    .dataframe thead th {\n",
              "        text-align: right;\n",
              "    }\n",
              "</style>\n",
              "<table border=\"1\" class=\"dataframe\">\n",
              "  <thead>\n",
              "    <tr style=\"text-align: right;\">\n",
              "      <th></th>\n",
              "      <th>year</th>\n",
              "      <th>month</th>\n",
              "      <th>state</th>\n",
              "      <th>global_value</th>\n",
              "      <th>cm_value</th>\n",
              "      <th>cmo_value</th>\n",
              "      <th>cda_value</th>\n",
              "      <th>ce_value</th>\n",
              "      <th>ca50_value</th>\n",
              "    </tr>\n",
              "  </thead>\n",
              "  <tbody>\n",
              "    <tr>\n",
              "      <th>0</th>\n",
              "      <td>2007</td>\n",
              "      <td>2</td>\n",
              "      <td>AL</td>\n",
              "      <td>611.28</td>\n",
              "      <td>325.22</td>\n",
              "      <td>242.30</td>\n",
              "      <td>26.49</td>\n",
              "      <td>17.27</td>\n",
              "      <td>2.630</td>\n",
              "    </tr>\n",
              "    <tr>\n",
              "      <th>1</th>\n",
              "      <td>2007</td>\n",
              "      <td>3</td>\n",
              "      <td>AL</td>\n",
              "      <td>606.19</td>\n",
              "      <td>334.63</td>\n",
              "      <td>242.30</td>\n",
              "      <td>22.75</td>\n",
              "      <td>6.51</td>\n",
              "      <td>2.625</td>\n",
              "    </tr>\n",
              "    <tr>\n",
              "      <th>2</th>\n",
              "      <td>2007</td>\n",
              "      <td>4</td>\n",
              "      <td>AL</td>\n",
              "      <td>613.36</td>\n",
              "      <td>341.80</td>\n",
              "      <td>242.30</td>\n",
              "      <td>22.75</td>\n",
              "      <td>6.51</td>\n",
              "      <td>2.630</td>\n",
              "    </tr>\n",
              "    <tr>\n",
              "      <th>3</th>\n",
              "      <td>2007</td>\n",
              "      <td>5</td>\n",
              "      <td>AL</td>\n",
              "      <td>619.35</td>\n",
              "      <td>336.79</td>\n",
              "      <td>254.65</td>\n",
              "      <td>21.40</td>\n",
              "      <td>6.51</td>\n",
              "      <td>2.635</td>\n",
              "    </tr>\n",
              "    <tr>\n",
              "      <th>4</th>\n",
              "      <td>2007</td>\n",
              "      <td>6</td>\n",
              "      <td>AL</td>\n",
              "      <td>617.76</td>\n",
              "      <td>334.43</td>\n",
              "      <td>254.65</td>\n",
              "      <td>22.28</td>\n",
              "      <td>6.40</td>\n",
              "      <td>2.660</td>\n",
              "    </tr>\n",
              "  </tbody>\n",
              "</table>\n",
              "</div>\n",
              "      <button class=\"colab-df-convert\" onclick=\"convertToInteractive('df-bc8cab3e-1628-4626-ac91-5482cb77e22c')\"\n",
              "              title=\"Convert this dataframe to an interactive table.\"\n",
              "              style=\"display:none;\">\n",
              "        \n",
              "  <svg xmlns=\"http://www.w3.org/2000/svg\" height=\"24px\"viewBox=\"0 0 24 24\"\n",
              "       width=\"24px\">\n",
              "    <path d=\"M0 0h24v24H0V0z\" fill=\"none\"/>\n",
              "    <path d=\"M18.56 5.44l.94 2.06.94-2.06 2.06-.94-2.06-.94-.94-2.06-.94 2.06-2.06.94zm-11 1L8.5 8.5l.94-2.06 2.06-.94-2.06-.94L8.5 2.5l-.94 2.06-2.06.94zm10 10l.94 2.06.94-2.06 2.06-.94-2.06-.94-.94-2.06-.94 2.06-2.06.94z\"/><path d=\"M17.41 7.96l-1.37-1.37c-.4-.4-.92-.59-1.43-.59-.52 0-1.04.2-1.43.59L10.3 9.45l-7.72 7.72c-.78.78-.78 2.05 0 2.83L4 21.41c.39.39.9.59 1.41.59.51 0 1.02-.2 1.41-.59l7.78-7.78 2.81-2.81c.8-.78.8-2.07 0-2.86zM5.41 20L4 18.59l7.72-7.72 1.47 1.35L5.41 20z\"/>\n",
              "  </svg>\n",
              "      </button>\n",
              "      \n",
              "  <style>\n",
              "    .colab-df-container {\n",
              "      display:flex;\n",
              "      flex-wrap:wrap;\n",
              "      gap: 12px;\n",
              "    }\n",
              "\n",
              "    .colab-df-convert {\n",
              "      background-color: #E8F0FE;\n",
              "      border: none;\n",
              "      border-radius: 50%;\n",
              "      cursor: pointer;\n",
              "      display: none;\n",
              "      fill: #1967D2;\n",
              "      height: 32px;\n",
              "      padding: 0 0 0 0;\n",
              "      width: 32px;\n",
              "    }\n",
              "\n",
              "    .colab-df-convert:hover {\n",
              "      background-color: #E2EBFA;\n",
              "      box-shadow: 0px 1px 2px rgba(60, 64, 67, 0.3), 0px 1px 3px 1px rgba(60, 64, 67, 0.15);\n",
              "      fill: #174EA6;\n",
              "    }\n",
              "\n",
              "    [theme=dark] .colab-df-convert {\n",
              "      background-color: #3B4455;\n",
              "      fill: #D2E3FC;\n",
              "    }\n",
              "\n",
              "    [theme=dark] .colab-df-convert:hover {\n",
              "      background-color: #434B5C;\n",
              "      box-shadow: 0px 1px 3px 1px rgba(0, 0, 0, 0.15);\n",
              "      filter: drop-shadow(0px 1px 2px rgba(0, 0, 0, 0.3));\n",
              "      fill: #FFFFFF;\n",
              "    }\n",
              "  </style>\n",
              "\n",
              "      <script>\n",
              "        const buttonEl =\n",
              "          document.querySelector('#df-bc8cab3e-1628-4626-ac91-5482cb77e22c button.colab-df-convert');\n",
              "        buttonEl.style.display =\n",
              "          google.colab.kernel.accessAllowed ? 'block' : 'none';\n",
              "\n",
              "        async function convertToInteractive(key) {\n",
              "          const element = document.querySelector('#df-bc8cab3e-1628-4626-ac91-5482cb77e22c');\n",
              "          const dataTable =\n",
              "            await google.colab.kernel.invokeFunction('convertToInteractive',\n",
              "                                                     [key], {});\n",
              "          if (!dataTable) return;\n",
              "\n",
              "          const docLinkHtml = 'Like what you see? Visit the ' +\n",
              "            '<a target=\"_blank\" href=https://colab.research.google.com/notebooks/data_table.ipynb>data table notebook</a>'\n",
              "            + ' to learn more about interactive tables.';\n",
              "          element.innerHTML = '';\n",
              "          dataTable['output_type'] = 'display_data';\n",
              "          await google.colab.output.renderOutput(dataTable, element);\n",
              "          const docLink = document.createElement('div');\n",
              "          docLink.innerHTML = docLinkHtml;\n",
              "          element.appendChild(docLink);\n",
              "        }\n",
              "      </script>\n",
              "    </div>\n",
              "  </div>\n",
              "  "
            ],
            "text/plain": [
              "   year  month state  global_value  ...  cmo_value  cda_value  ce_value  ca50_value\n",
              "0  2007      2    AL        611.28  ...     242.30      26.49     17.27       2.630\n",
              "1  2007      3    AL        606.19  ...     242.30      22.75      6.51       2.625\n",
              "2  2007      4    AL        613.36  ...     242.30      22.75      6.51       2.630\n",
              "3  2007      5    AL        619.35  ...     254.65      21.40      6.51       2.635\n",
              "4  2007      6    AL        617.76  ...     254.65      22.28      6.40       2.660\n",
              "\n",
              "[5 rows x 9 columns]"
            ]
          },
          "metadata": {},
          "execution_count": 4
        }
      ]
    },
    {
      "cell_type": "code",
      "metadata": {
        "id": "Mf_g-2Iu3IKv",
        "colab": {
          "base_uri": "https://localhost:8080/",
          "height": 206
        },
        "outputId": "0fe74ae5-3862-40a6-f593-a64a5d0da422"
      },
      "source": [
        "df.tail()"
      ],
      "execution_count": null,
      "outputs": [
        {
          "output_type": "execute_result",
          "data": {
            "text/html": [
              "\n",
              "  <div id=\"df-90c19e37-7c05-4350-b7a6-f40c41954de8\">\n",
              "    <div class=\"colab-df-container\">\n",
              "      <div>\n",
              "<style scoped>\n",
              "    .dataframe tbody tr th:only-of-type {\n",
              "        vertical-align: middle;\n",
              "    }\n",
              "\n",
              "    .dataframe tbody tr th {\n",
              "        vertical-align: top;\n",
              "    }\n",
              "\n",
              "    .dataframe thead th {\n",
              "        text-align: right;\n",
              "    }\n",
              "</style>\n",
              "<table border=\"1\" class=\"dataframe\">\n",
              "  <thead>\n",
              "    <tr style=\"text-align: right;\">\n",
              "      <th></th>\n",
              "      <th>year</th>\n",
              "      <th>month</th>\n",
              "      <th>state</th>\n",
              "      <th>global_value</th>\n",
              "      <th>cm_value</th>\n",
              "      <th>cmo_value</th>\n",
              "      <th>cda_value</th>\n",
              "      <th>ce_value</th>\n",
              "      <th>ca50_value</th>\n",
              "    </tr>\n",
              "  </thead>\n",
              "  <tbody>\n",
              "    <tr>\n",
              "      <th>3543</th>\n",
              "      <td>2021</td>\n",
              "      <td>3</td>\n",
              "      <td>SC</td>\n",
              "      <td>2171.33</td>\n",
              "      <td>819.38</td>\n",
              "      <td>1300.81</td>\n",
              "      <td>47.63</td>\n",
              "      <td>3.52</td>\n",
              "      <td>6.35</td>\n",
              "    </tr>\n",
              "    <tr>\n",
              "      <th>3544</th>\n",
              "      <td>2021</td>\n",
              "      <td>4</td>\n",
              "      <td>SC</td>\n",
              "      <td>2203.29</td>\n",
              "      <td>848.55</td>\n",
              "      <td>1303.66</td>\n",
              "      <td>47.50</td>\n",
              "      <td>3.58</td>\n",
              "      <td>6.78</td>\n",
              "    </tr>\n",
              "    <tr>\n",
              "      <th>3545</th>\n",
              "      <td>2021</td>\n",
              "      <td>5</td>\n",
              "      <td>SC</td>\n",
              "      <td>2253.79</td>\n",
              "      <td>879.74</td>\n",
              "      <td>1322.23</td>\n",
              "      <td>48.22</td>\n",
              "      <td>3.61</td>\n",
              "      <td>6.86</td>\n",
              "    </tr>\n",
              "    <tr>\n",
              "      <th>3546</th>\n",
              "      <td>2021</td>\n",
              "      <td>6</td>\n",
              "      <td>SC</td>\n",
              "      <td>2307.92</td>\n",
              "      <td>896.13</td>\n",
              "      <td>1358.30</td>\n",
              "      <td>49.74</td>\n",
              "      <td>3.75</td>\n",
              "      <td>6.87</td>\n",
              "    </tr>\n",
              "    <tr>\n",
              "      <th>3547</th>\n",
              "      <td>2021</td>\n",
              "      <td>7</td>\n",
              "      <td>SC</td>\n",
              "      <td>2329.85</td>\n",
              "      <td>909.25</td>\n",
              "      <td>1366.99</td>\n",
              "      <td>49.84</td>\n",
              "      <td>3.78</td>\n",
              "      <td>7.12</td>\n",
              "    </tr>\n",
              "  </tbody>\n",
              "</table>\n",
              "</div>\n",
              "      <button class=\"colab-df-convert\" onclick=\"convertToInteractive('df-90c19e37-7c05-4350-b7a6-f40c41954de8')\"\n",
              "              title=\"Convert this dataframe to an interactive table.\"\n",
              "              style=\"display:none;\">\n",
              "        \n",
              "  <svg xmlns=\"http://www.w3.org/2000/svg\" height=\"24px\"viewBox=\"0 0 24 24\"\n",
              "       width=\"24px\">\n",
              "    <path d=\"M0 0h24v24H0V0z\" fill=\"none\"/>\n",
              "    <path d=\"M18.56 5.44l.94 2.06.94-2.06 2.06-.94-2.06-.94-.94-2.06-.94 2.06-2.06.94zm-11 1L8.5 8.5l.94-2.06 2.06-.94-2.06-.94L8.5 2.5l-.94 2.06-2.06.94zm10 10l.94 2.06.94-2.06 2.06-.94-2.06-.94-.94-2.06-.94 2.06-2.06.94z\"/><path d=\"M17.41 7.96l-1.37-1.37c-.4-.4-.92-.59-1.43-.59-.52 0-1.04.2-1.43.59L10.3 9.45l-7.72 7.72c-.78.78-.78 2.05 0 2.83L4 21.41c.39.39.9.59 1.41.59.51 0 1.02-.2 1.41-.59l7.78-7.78 2.81-2.81c.8-.78.8-2.07 0-2.86zM5.41 20L4 18.59l7.72-7.72 1.47 1.35L5.41 20z\"/>\n",
              "  </svg>\n",
              "      </button>\n",
              "      \n",
              "  <style>\n",
              "    .colab-df-container {\n",
              "      display:flex;\n",
              "      flex-wrap:wrap;\n",
              "      gap: 12px;\n",
              "    }\n",
              "\n",
              "    .colab-df-convert {\n",
              "      background-color: #E8F0FE;\n",
              "      border: none;\n",
              "      border-radius: 50%;\n",
              "      cursor: pointer;\n",
              "      display: none;\n",
              "      fill: #1967D2;\n",
              "      height: 32px;\n",
              "      padding: 0 0 0 0;\n",
              "      width: 32px;\n",
              "    }\n",
              "\n",
              "    .colab-df-convert:hover {\n",
              "      background-color: #E2EBFA;\n",
              "      box-shadow: 0px 1px 2px rgba(60, 64, 67, 0.3), 0px 1px 3px 1px rgba(60, 64, 67, 0.15);\n",
              "      fill: #174EA6;\n",
              "    }\n",
              "\n",
              "    [theme=dark] .colab-df-convert {\n",
              "      background-color: #3B4455;\n",
              "      fill: #D2E3FC;\n",
              "    }\n",
              "\n",
              "    [theme=dark] .colab-df-convert:hover {\n",
              "      background-color: #434B5C;\n",
              "      box-shadow: 0px 1px 3px 1px rgba(0, 0, 0, 0.15);\n",
              "      filter: drop-shadow(0px 1px 2px rgba(0, 0, 0, 0.3));\n",
              "      fill: #FFFFFF;\n",
              "    }\n",
              "  </style>\n",
              "\n",
              "      <script>\n",
              "        const buttonEl =\n",
              "          document.querySelector('#df-90c19e37-7c05-4350-b7a6-f40c41954de8 button.colab-df-convert');\n",
              "        buttonEl.style.display =\n",
              "          google.colab.kernel.accessAllowed ? 'block' : 'none';\n",
              "\n",
              "        async function convertToInteractive(key) {\n",
              "          const element = document.querySelector('#df-90c19e37-7c05-4350-b7a6-f40c41954de8');\n",
              "          const dataTable =\n",
              "            await google.colab.kernel.invokeFunction('convertToInteractive',\n",
              "                                                     [key], {});\n",
              "          if (!dataTable) return;\n",
              "\n",
              "          const docLinkHtml = 'Like what you see? Visit the ' +\n",
              "            '<a target=\"_blank\" href=https://colab.research.google.com/notebooks/data_table.ipynb>data table notebook</a>'\n",
              "            + ' to learn more about interactive tables.';\n",
              "          element.innerHTML = '';\n",
              "          dataTable['output_type'] = 'display_data';\n",
              "          await google.colab.output.renderOutput(dataTable, element);\n",
              "          const docLink = document.createElement('div');\n",
              "          docLink.innerHTML = docLinkHtml;\n",
              "          element.appendChild(docLink);\n",
              "        }\n",
              "      </script>\n",
              "    </div>\n",
              "  </div>\n",
              "  "
            ],
            "text/plain": [
              "      year  month state  ...  cda_value  ce_value  ca50_value\n",
              "3543  2021      3    SC  ...      47.63      3.52        6.35\n",
              "3544  2021      4    SC  ...      47.50      3.58        6.78\n",
              "3545  2021      5    SC  ...      48.22      3.61        6.86\n",
              "3546  2021      6    SC  ...      49.74      3.75        6.87\n",
              "3547  2021      7    SC  ...      49.84      3.78        7.12\n",
              "\n",
              "[5 rows x 9 columns]"
            ]
          },
          "metadata": {},
          "execution_count": 5
        }
      ]
    },
    {
      "cell_type": "markdown",
      "metadata": {
        "id": "bwOoPHG19XKP"
      },
      "source": [
        "---\n",
        "Descrição das colunas, segundo o  do provedor do DataSet:\n",
        "\n",
        "\n",
        "\n",
        "\n",
        "* state: unidade federativa do brasil\n",
        "\n",
        "* globalvalue: valor total \n",
        "\n",
        "* cmvalue: valor componentes materiais\n",
        "\n",
        "* cmovalue: valor componentes mão de obra \n",
        "\n",
        "* cdavalue: valor componentes despesa administrativa\n",
        "\n",
        "* ce_value: valor componentes equipamento\n",
        "\n",
        "* (globalvalue = cmvalue + cmovalue + cdavalue + ce_value )\n",
        "\n",
        "> **Todas as colunas de valor utilizam a unidade R$/m²\n",
        "\n",
        "* ca50_value: evolução do valor do aço ca50 10mm no período (R$/Kg)\n",
        "\n",
        "---"
      ]
    },
    {
      "cell_type": "markdown",
      "source": [
        "### Testes do tutorial do Kaggle"
      ],
      "metadata": {
        "id": "jpw4sXR8FlFu"
      }
    },
    {
      "cell_type": "code",
      "metadata": {
        "id": "cWeffIsc70Jp"
      },
      "source": [
        "#Testes do tutorial do Kaggle de Pandas\n",
        "## Qual foram os últimos dados adquiridos (ano)?\n",
        "df.year.unique()#Qual último mês de dados adquiridos do ano de 2021?\n",
        "ano_2021 = df.loc[df.year == 2021]\n",
        "lista_mes_2021 = list(ano_2021.month.unique())\n",
        "lista_mes_2021[-1:]\n",
        "#Visualizando os últmos dados obtidos de todos os estados em 2021\n",
        "mes_7_ano_2021 = ano_2021.loc[ano_2021.month == 7]\n",
        "#//mes_7_ano_2021\n",
        "# em caso de necessidade de ordenação ascendente pela coluna 'state':\n",
        "ordenacao_mes = mes_7_ano_2021.sort_values(by =['state'])\n",
        "#//ordenacao_mes\n",
        "#removendo colunas ano e mês (já filtrados anteriormente)\n",
        "drop_ordenacao_mes = ordenacao_mes.drop(['year','month'],axis=1,)\n",
        "#drop_ordenacao_mes.describe()"
      ],
      "execution_count": null,
      "outputs": []
    },
    {
      "cell_type": "markdown",
      "source": [
        "### Visualização com o data_table do Colab\n",
        "\n",
        "Recentemente (14/12) descobri um recurso do Colab para visualização dinâmica de tabela:"
      ],
      "metadata": {
        "id": "t7u1h_xY3sIr"
      }
    },
    {
      "cell_type": "code",
      "source": [
        "from google.colab import data_table\n",
        "#data_table.enable_dataframe_formatter()   #use .disable para desabilitar\n",
        "data_table.disable_dataframe_formatter()\n"
      ],
      "metadata": {
        "id": "lnmTwHjUx-OR"
      },
      "execution_count": null,
      "outputs": []
    },
    {
      "cell_type": "code",
      "source": [
        "#Teste visualização\n",
        "df\n"
      ],
      "metadata": {
        "id": "hJT1qvxuyaYH",
        "colab": {
          "base_uri": "https://localhost:8080/",
          "height": 424
        },
        "outputId": "8a8eae33-a3ab-4431-e522-4c04a0fcdf39"
      },
      "execution_count": null,
      "outputs": [
        {
          "output_type": "execute_result",
          "data": {
            "text/html": [
              "\n",
              "  <div id=\"df-74e5bb1a-dc23-41b9-aafe-5bc16d6cf96a\">\n",
              "    <div class=\"colab-df-container\">\n",
              "      <div>\n",
              "<style scoped>\n",
              "    .dataframe tbody tr th:only-of-type {\n",
              "        vertical-align: middle;\n",
              "    }\n",
              "\n",
              "    .dataframe tbody tr th {\n",
              "        vertical-align: top;\n",
              "    }\n",
              "\n",
              "    .dataframe thead th {\n",
              "        text-align: right;\n",
              "    }\n",
              "</style>\n",
              "<table border=\"1\" class=\"dataframe\">\n",
              "  <thead>\n",
              "    <tr style=\"text-align: right;\">\n",
              "      <th></th>\n",
              "      <th>year</th>\n",
              "      <th>month</th>\n",
              "      <th>state</th>\n",
              "      <th>global_value</th>\n",
              "      <th>cm_value</th>\n",
              "      <th>cmo_value</th>\n",
              "      <th>cda_value</th>\n",
              "      <th>ce_value</th>\n",
              "      <th>ca50_value</th>\n",
              "    </tr>\n",
              "  </thead>\n",
              "  <tbody>\n",
              "    <tr>\n",
              "      <th>0</th>\n",
              "      <td>2007</td>\n",
              "      <td>2</td>\n",
              "      <td>AL</td>\n",
              "      <td>611.28</td>\n",
              "      <td>325.22</td>\n",
              "      <td>242.30</td>\n",
              "      <td>26.49</td>\n",
              "      <td>17.27</td>\n",
              "      <td>2.630</td>\n",
              "    </tr>\n",
              "    <tr>\n",
              "      <th>1</th>\n",
              "      <td>2007</td>\n",
              "      <td>3</td>\n",
              "      <td>AL</td>\n",
              "      <td>606.19</td>\n",
              "      <td>334.63</td>\n",
              "      <td>242.30</td>\n",
              "      <td>22.75</td>\n",
              "      <td>6.51</td>\n",
              "      <td>2.625</td>\n",
              "    </tr>\n",
              "    <tr>\n",
              "      <th>2</th>\n",
              "      <td>2007</td>\n",
              "      <td>4</td>\n",
              "      <td>AL</td>\n",
              "      <td>613.36</td>\n",
              "      <td>341.80</td>\n",
              "      <td>242.30</td>\n",
              "      <td>22.75</td>\n",
              "      <td>6.51</td>\n",
              "      <td>2.630</td>\n",
              "    </tr>\n",
              "    <tr>\n",
              "      <th>3</th>\n",
              "      <td>2007</td>\n",
              "      <td>5</td>\n",
              "      <td>AL</td>\n",
              "      <td>619.35</td>\n",
              "      <td>336.79</td>\n",
              "      <td>254.65</td>\n",
              "      <td>21.40</td>\n",
              "      <td>6.51</td>\n",
              "      <td>2.635</td>\n",
              "    </tr>\n",
              "    <tr>\n",
              "      <th>4</th>\n",
              "      <td>2007</td>\n",
              "      <td>6</td>\n",
              "      <td>AL</td>\n",
              "      <td>617.76</td>\n",
              "      <td>334.43</td>\n",
              "      <td>254.65</td>\n",
              "      <td>22.28</td>\n",
              "      <td>6.40</td>\n",
              "      <td>2.660</td>\n",
              "    </tr>\n",
              "    <tr>\n",
              "      <th>...</th>\n",
              "      <td>...</td>\n",
              "      <td>...</td>\n",
              "      <td>...</td>\n",
              "      <td>...</td>\n",
              "      <td>...</td>\n",
              "      <td>...</td>\n",
              "      <td>...</td>\n",
              "      <td>...</td>\n",
              "      <td>...</td>\n",
              "    </tr>\n",
              "    <tr>\n",
              "      <th>3543</th>\n",
              "      <td>2021</td>\n",
              "      <td>3</td>\n",
              "      <td>SC</td>\n",
              "      <td>2171.33</td>\n",
              "      <td>819.38</td>\n",
              "      <td>1300.81</td>\n",
              "      <td>47.63</td>\n",
              "      <td>3.52</td>\n",
              "      <td>6.350</td>\n",
              "    </tr>\n",
              "    <tr>\n",
              "      <th>3544</th>\n",
              "      <td>2021</td>\n",
              "      <td>4</td>\n",
              "      <td>SC</td>\n",
              "      <td>2203.29</td>\n",
              "      <td>848.55</td>\n",
              "      <td>1303.66</td>\n",
              "      <td>47.50</td>\n",
              "      <td>3.58</td>\n",
              "      <td>6.780</td>\n",
              "    </tr>\n",
              "    <tr>\n",
              "      <th>3545</th>\n",
              "      <td>2021</td>\n",
              "      <td>5</td>\n",
              "      <td>SC</td>\n",
              "      <td>2253.79</td>\n",
              "      <td>879.74</td>\n",
              "      <td>1322.23</td>\n",
              "      <td>48.22</td>\n",
              "      <td>3.61</td>\n",
              "      <td>6.860</td>\n",
              "    </tr>\n",
              "    <tr>\n",
              "      <th>3546</th>\n",
              "      <td>2021</td>\n",
              "      <td>6</td>\n",
              "      <td>SC</td>\n",
              "      <td>2307.92</td>\n",
              "      <td>896.13</td>\n",
              "      <td>1358.30</td>\n",
              "      <td>49.74</td>\n",
              "      <td>3.75</td>\n",
              "      <td>6.870</td>\n",
              "    </tr>\n",
              "    <tr>\n",
              "      <th>3547</th>\n",
              "      <td>2021</td>\n",
              "      <td>7</td>\n",
              "      <td>SC</td>\n",
              "      <td>2329.85</td>\n",
              "      <td>909.25</td>\n",
              "      <td>1366.99</td>\n",
              "      <td>49.84</td>\n",
              "      <td>3.78</td>\n",
              "      <td>7.120</td>\n",
              "    </tr>\n",
              "  </tbody>\n",
              "</table>\n",
              "<p>3548 rows × 9 columns</p>\n",
              "</div>\n",
              "      <button class=\"colab-df-convert\" onclick=\"convertToInteractive('df-74e5bb1a-dc23-41b9-aafe-5bc16d6cf96a')\"\n",
              "              title=\"Convert this dataframe to an interactive table.\"\n",
              "              style=\"display:none;\">\n",
              "        \n",
              "  <svg xmlns=\"http://www.w3.org/2000/svg\" height=\"24px\"viewBox=\"0 0 24 24\"\n",
              "       width=\"24px\">\n",
              "    <path d=\"M0 0h24v24H0V0z\" fill=\"none\"/>\n",
              "    <path d=\"M18.56 5.44l.94 2.06.94-2.06 2.06-.94-2.06-.94-.94-2.06-.94 2.06-2.06.94zm-11 1L8.5 8.5l.94-2.06 2.06-.94-2.06-.94L8.5 2.5l-.94 2.06-2.06.94zm10 10l.94 2.06.94-2.06 2.06-.94-2.06-.94-.94-2.06-.94 2.06-2.06.94z\"/><path d=\"M17.41 7.96l-1.37-1.37c-.4-.4-.92-.59-1.43-.59-.52 0-1.04.2-1.43.59L10.3 9.45l-7.72 7.72c-.78.78-.78 2.05 0 2.83L4 21.41c.39.39.9.59 1.41.59.51 0 1.02-.2 1.41-.59l7.78-7.78 2.81-2.81c.8-.78.8-2.07 0-2.86zM5.41 20L4 18.59l7.72-7.72 1.47 1.35L5.41 20z\"/>\n",
              "  </svg>\n",
              "      </button>\n",
              "      \n",
              "  <style>\n",
              "    .colab-df-container {\n",
              "      display:flex;\n",
              "      flex-wrap:wrap;\n",
              "      gap: 12px;\n",
              "    }\n",
              "\n",
              "    .colab-df-convert {\n",
              "      background-color: #E8F0FE;\n",
              "      border: none;\n",
              "      border-radius: 50%;\n",
              "      cursor: pointer;\n",
              "      display: none;\n",
              "      fill: #1967D2;\n",
              "      height: 32px;\n",
              "      padding: 0 0 0 0;\n",
              "      width: 32px;\n",
              "    }\n",
              "\n",
              "    .colab-df-convert:hover {\n",
              "      background-color: #E2EBFA;\n",
              "      box-shadow: 0px 1px 2px rgba(60, 64, 67, 0.3), 0px 1px 3px 1px rgba(60, 64, 67, 0.15);\n",
              "      fill: #174EA6;\n",
              "    }\n",
              "\n",
              "    [theme=dark] .colab-df-convert {\n",
              "      background-color: #3B4455;\n",
              "      fill: #D2E3FC;\n",
              "    }\n",
              "\n",
              "    [theme=dark] .colab-df-convert:hover {\n",
              "      background-color: #434B5C;\n",
              "      box-shadow: 0px 1px 3px 1px rgba(0, 0, 0, 0.15);\n",
              "      filter: drop-shadow(0px 1px 2px rgba(0, 0, 0, 0.3));\n",
              "      fill: #FFFFFF;\n",
              "    }\n",
              "  </style>\n",
              "\n",
              "      <script>\n",
              "        const buttonEl =\n",
              "          document.querySelector('#df-74e5bb1a-dc23-41b9-aafe-5bc16d6cf96a button.colab-df-convert');\n",
              "        buttonEl.style.display =\n",
              "          google.colab.kernel.accessAllowed ? 'block' : 'none';\n",
              "\n",
              "        async function convertToInteractive(key) {\n",
              "          const element = document.querySelector('#df-74e5bb1a-dc23-41b9-aafe-5bc16d6cf96a');\n",
              "          const dataTable =\n",
              "            await google.colab.kernel.invokeFunction('convertToInteractive',\n",
              "                                                     [key], {});\n",
              "          if (!dataTable) return;\n",
              "\n",
              "          const docLinkHtml = 'Like what you see? Visit the ' +\n",
              "            '<a target=\"_blank\" href=https://colab.research.google.com/notebooks/data_table.ipynb>data table notebook</a>'\n",
              "            + ' to learn more about interactive tables.';\n",
              "          element.innerHTML = '';\n",
              "          dataTable['output_type'] = 'display_data';\n",
              "          await google.colab.output.renderOutput(dataTable, element);\n",
              "          const docLink = document.createElement('div');\n",
              "          docLink.innerHTML = docLinkHtml;\n",
              "          element.appendChild(docLink);\n",
              "        }\n",
              "      </script>\n",
              "    </div>\n",
              "  </div>\n",
              "  "
            ],
            "text/plain": [
              "      year  month state  ...  cda_value  ce_value  ca50_value\n",
              "0     2007      2    AL  ...      26.49     17.27       2.630\n",
              "1     2007      3    AL  ...      22.75      6.51       2.625\n",
              "2     2007      4    AL  ...      22.75      6.51       2.630\n",
              "3     2007      5    AL  ...      21.40      6.51       2.635\n",
              "4     2007      6    AL  ...      22.28      6.40       2.660\n",
              "...    ...    ...   ...  ...        ...       ...         ...\n",
              "3543  2021      3    SC  ...      47.63      3.52       6.350\n",
              "3544  2021      4    SC  ...      47.50      3.58       6.780\n",
              "3545  2021      5    SC  ...      48.22      3.61       6.860\n",
              "3546  2021      6    SC  ...      49.74      3.75       6.870\n",
              "3547  2021      7    SC  ...      49.84      3.78       7.120\n",
              "\n",
              "[3548 rows x 9 columns]"
            ]
          },
          "metadata": {},
          "execution_count": 8
        }
      ]
    },
    {
      "cell_type": "markdown",
      "metadata": {
        "id": "SLQYwR4gCg8W"
      },
      "source": [
        "## Avaliando a qualidade de dados do df:\n",
        "\n",
        "\n"
      ]
    },
    {
      "cell_type": "markdown",
      "metadata": {
        "id": "MPjbhkOp2Gxm"
      },
      "source": [
        ">1. Checar valores ausentes"
      ]
    },
    {
      "cell_type": "code",
      "metadata": {
        "id": "VoaFG8KqCdnC",
        "colab": {
          "base_uri": "https://localhost:8080/"
        },
        "outputId": "a977d49c-6450-4381-8b37-ed0673fbfb81"
      },
      "source": [
        "df.isnull().sum()     #Sem valores nulos, ótimo"
      ],
      "execution_count": null,
      "outputs": [
        {
          "output_type": "execute_result",
          "data": {
            "text/plain": [
              "year            0\n",
              "month           0\n",
              "state           0\n",
              "global_value    0\n",
              "cm_value        0\n",
              "cmo_value       0\n",
              "cda_value       0\n",
              "ce_value        0\n",
              "ca50_value      0\n",
              "dtype: int64"
            ]
          },
          "metadata": {},
          "execution_count": 9
        }
      ]
    },
    {
      "cell_type": "markdown",
      "metadata": {
        "id": "Y6LM3sRAncir"
      },
      "source": [
        "Temos \"0\" valores ausentes"
      ]
    },
    {
      "cell_type": "markdown",
      "metadata": {
        "id": "IKih1u8t1-5v"
      },
      "source": [
        ">2. Existem linhas duplicadas?"
      ]
    },
    {
      "cell_type": "code",
      "metadata": {
        "colab": {
          "base_uri": "https://localhost:8080/"
        },
        "id": "fO0UlhRPuVfi",
        "outputId": "7b06ae8e-0658-43a2-caed-852170934e61"
      },
      "source": [
        "df.duplicated()"
      ],
      "execution_count": null,
      "outputs": [
        {
          "output_type": "execute_result",
          "data": {
            "text/plain": [
              "0       False\n",
              "1       False\n",
              "2       False\n",
              "3       False\n",
              "4       False\n",
              "        ...  \n",
              "3543    False\n",
              "3544    False\n",
              "3545    False\n",
              "3546    False\n",
              "3547    False\n",
              "Length: 3548, dtype: bool"
            ]
          },
          "metadata": {},
          "execution_count": 10
        }
      ]
    },
    {
      "cell_type": "markdown",
      "metadata": {
        "id": "pk4oT9EinyfN"
      },
      "source": [
        "\"Falso\" para linhas duplicadas"
      ]
    },
    {
      "cell_type": "markdown",
      "metadata": {
        "id": "RjBZqpXG0aPl"
      },
      "source": [
        "\n",
        "\n",
        "> 3. Tipos de dados das colunas- já vi que devo tratar as colunas \"year\" e \"month\".\n",
        "\n"
      ]
    },
    {
      "cell_type": "code",
      "metadata": {
        "colab": {
          "base_uri": "https://localhost:8080/"
        },
        "id": "-ScGKkby03Hq",
        "outputId": "09580a4b-c44d-478b-e1e7-79f12bee434e"
      },
      "source": [
        "df.info()   #não execute, aqui está a evidência das colunas year e month"
      ],
      "execution_count": null,
      "outputs": [
        {
          "output_type": "stream",
          "name": "stdout",
          "text": [
            "<class 'pandas.core.frame.DataFrame'>\n",
            "RangeIndex: 3548 entries, 0 to 3547\n",
            "Data columns (total 9 columns):\n",
            " #   Column        Non-Null Count  Dtype  \n",
            "---  ------        --------------  -----  \n",
            " 0   year          3548 non-null   int64  \n",
            " 1   month         3548 non-null   int64  \n",
            " 2   state         3548 non-null   object \n",
            " 3   global_value  3548 non-null   float64\n",
            " 4   cm_value      3548 non-null   float64\n",
            " 5   cmo_value     3548 non-null   float64\n",
            " 6   cda_value     3548 non-null   float64\n",
            " 7   ce_value      3548 non-null   float64\n",
            " 8   ca50_value    3548 non-null   float64\n",
            "dtypes: float64(6), int64(2), object(1)\n",
            "memory usage: 249.6+ KB\n"
          ]
        }
      ]
    },
    {
      "cell_type": "code",
      "metadata": {
        "id": "U6CX9Lu4--2r"
      },
      "source": [
        "df['year'] = df['year'].astype('object')\n",
        "df['month'] = df['month'].astype('object')\n"
      ],
      "execution_count": null,
      "outputs": []
    },
    {
      "cell_type": "code",
      "metadata": {
        "id": "WSCVF5N2Tr2r"
      },
      "source": [
        "df['year'] = pd.to_datetime(df['year'])\n",
        "df['month'] = pd.to_datetime(df['month'])"
      ],
      "execution_count": null,
      "outputs": []
    },
    {
      "cell_type": "code",
      "metadata": {
        "colab": {
          "base_uri": "https://localhost:8080/"
        },
        "id": "QFltReqVA3PW",
        "outputId": "79818aa2-af34-4131-bed7-3f47fddbb985"
      },
      "source": [
        "df.info()   #types após conversão"
      ],
      "execution_count": null,
      "outputs": [
        {
          "output_type": "stream",
          "name": "stdout",
          "text": [
            "<class 'pandas.core.frame.DataFrame'>\n",
            "RangeIndex: 3548 entries, 0 to 3547\n",
            "Data columns (total 9 columns):\n",
            " #   Column        Non-Null Count  Dtype         \n",
            "---  ------        --------------  -----         \n",
            " 0   year          3548 non-null   datetime64[ns]\n",
            " 1   month         3548 non-null   datetime64[ns]\n",
            " 2   state         3548 non-null   object        \n",
            " 3   global_value  3548 non-null   float64       \n",
            " 4   cm_value      3548 non-null   float64       \n",
            " 5   cmo_value     3548 non-null   float64       \n",
            " 6   cda_value     3548 non-null   float64       \n",
            " 7   ce_value      3548 non-null   float64       \n",
            " 8   ca50_value    3548 non-null   float64       \n",
            "dtypes: datetime64[ns](2), float64(6), object(1)\n",
            "memory usage: 249.6+ KB\n"
          ]
        }
      ]
    },
    {
      "cell_type": "markdown",
      "metadata": {
        "id": "PluH3I03B6Y2"
      },
      "source": [
        "Pronto, converti as colunas 'year' e 'month' para tipo datetime"
      ]
    },
    {
      "cell_type": "markdown",
      "source": [
        "# Avaliando estatísicas\n",
        "Embora já tenha descrito propriedades estatísticas anteriormente, antes de prosseguir para as perguntas de negócio irei avaliar os dados com perspectiva estatística -baseando-se no livro Data Science do Zero e tutorias do kaggle"
      ],
      "metadata": {
        "id": "udHQusJhuvCD"
      }
    },
    {
      "cell_type": "code",
      "source": [
        "#correlação ou covariância\n",
        "corr_df = df.corr(method = 'pearson') #Utilizar método de pearson quano não houver presença de outliers\n",
        "corr_df\n"
      ],
      "metadata": {
        "id": "3n_TTSRxvGTQ",
        "colab": {
          "base_uri": "https://localhost:8080/",
          "height": 237
        },
        "outputId": "dc95fc13-0abe-4a4e-d588-529f3ab3d162"
      },
      "execution_count": null,
      "outputs": [
        {
          "output_type": "execute_result",
          "data": {
            "text/html": [
              "\n",
              "  <div id=\"df-d82b3f59-5372-431e-aa3a-6bf8dd8e62ea\">\n",
              "    <div class=\"colab-df-container\">\n",
              "      <div>\n",
              "<style scoped>\n",
              "    .dataframe tbody tr th:only-of-type {\n",
              "        vertical-align: middle;\n",
              "    }\n",
              "\n",
              "    .dataframe tbody tr th {\n",
              "        vertical-align: top;\n",
              "    }\n",
              "\n",
              "    .dataframe thead th {\n",
              "        text-align: right;\n",
              "    }\n",
              "</style>\n",
              "<table border=\"1\" class=\"dataframe\">\n",
              "  <thead>\n",
              "    <tr style=\"text-align: right;\">\n",
              "      <th></th>\n",
              "      <th>global_value</th>\n",
              "      <th>cm_value</th>\n",
              "      <th>cmo_value</th>\n",
              "      <th>cda_value</th>\n",
              "      <th>ce_value</th>\n",
              "      <th>ca50_value</th>\n",
              "    </tr>\n",
              "  </thead>\n",
              "  <tbody>\n",
              "    <tr>\n",
              "      <th>global_value</th>\n",
              "      <td>1.000000</td>\n",
              "      <td>0.848222</td>\n",
              "      <td>0.957673</td>\n",
              "      <td>0.642231</td>\n",
              "      <td>0.199344</td>\n",
              "      <td>0.500225</td>\n",
              "    </tr>\n",
              "    <tr>\n",
              "      <th>cm_value</th>\n",
              "      <td>0.848222</td>\n",
              "      <td>1.000000</td>\n",
              "      <td>0.666429</td>\n",
              "      <td>0.482311</td>\n",
              "      <td>0.341865</td>\n",
              "      <td>0.711714</td>\n",
              "    </tr>\n",
              "    <tr>\n",
              "      <th>cmo_value</th>\n",
              "      <td>0.957673</td>\n",
              "      <td>0.666429</td>\n",
              "      <td>1.000000</td>\n",
              "      <td>0.585831</td>\n",
              "      <td>0.059788</td>\n",
              "      <td>0.339555</td>\n",
              "    </tr>\n",
              "    <tr>\n",
              "      <th>cda_value</th>\n",
              "      <td>0.642231</td>\n",
              "      <td>0.482311</td>\n",
              "      <td>0.585831</td>\n",
              "      <td>1.000000</td>\n",
              "      <td>0.334430</td>\n",
              "      <td>0.175607</td>\n",
              "    </tr>\n",
              "    <tr>\n",
              "      <th>ce_value</th>\n",
              "      <td>0.199344</td>\n",
              "      <td>0.341865</td>\n",
              "      <td>0.059788</td>\n",
              "      <td>0.334430</td>\n",
              "      <td>1.000000</td>\n",
              "      <td>0.192471</td>\n",
              "    </tr>\n",
              "    <tr>\n",
              "      <th>ca50_value</th>\n",
              "      <td>0.500225</td>\n",
              "      <td>0.711714</td>\n",
              "      <td>0.339555</td>\n",
              "      <td>0.175607</td>\n",
              "      <td>0.192471</td>\n",
              "      <td>1.000000</td>\n",
              "    </tr>\n",
              "  </tbody>\n",
              "</table>\n",
              "</div>\n",
              "      <button class=\"colab-df-convert\" onclick=\"convertToInteractive('df-d82b3f59-5372-431e-aa3a-6bf8dd8e62ea')\"\n",
              "              title=\"Convert this dataframe to an interactive table.\"\n",
              "              style=\"display:none;\">\n",
              "        \n",
              "  <svg xmlns=\"http://www.w3.org/2000/svg\" height=\"24px\"viewBox=\"0 0 24 24\"\n",
              "       width=\"24px\">\n",
              "    <path d=\"M0 0h24v24H0V0z\" fill=\"none\"/>\n",
              "    <path d=\"M18.56 5.44l.94 2.06.94-2.06 2.06-.94-2.06-.94-.94-2.06-.94 2.06-2.06.94zm-11 1L8.5 8.5l.94-2.06 2.06-.94-2.06-.94L8.5 2.5l-.94 2.06-2.06.94zm10 10l.94 2.06.94-2.06 2.06-.94-2.06-.94-.94-2.06-.94 2.06-2.06.94z\"/><path d=\"M17.41 7.96l-1.37-1.37c-.4-.4-.92-.59-1.43-.59-.52 0-1.04.2-1.43.59L10.3 9.45l-7.72 7.72c-.78.78-.78 2.05 0 2.83L4 21.41c.39.39.9.59 1.41.59.51 0 1.02-.2 1.41-.59l7.78-7.78 2.81-2.81c.8-.78.8-2.07 0-2.86zM5.41 20L4 18.59l7.72-7.72 1.47 1.35L5.41 20z\"/>\n",
              "  </svg>\n",
              "      </button>\n",
              "      \n",
              "  <style>\n",
              "    .colab-df-container {\n",
              "      display:flex;\n",
              "      flex-wrap:wrap;\n",
              "      gap: 12px;\n",
              "    }\n",
              "\n",
              "    .colab-df-convert {\n",
              "      background-color: #E8F0FE;\n",
              "      border: none;\n",
              "      border-radius: 50%;\n",
              "      cursor: pointer;\n",
              "      display: none;\n",
              "      fill: #1967D2;\n",
              "      height: 32px;\n",
              "      padding: 0 0 0 0;\n",
              "      width: 32px;\n",
              "    }\n",
              "\n",
              "    .colab-df-convert:hover {\n",
              "      background-color: #E2EBFA;\n",
              "      box-shadow: 0px 1px 2px rgba(60, 64, 67, 0.3), 0px 1px 3px 1px rgba(60, 64, 67, 0.15);\n",
              "      fill: #174EA6;\n",
              "    }\n",
              "\n",
              "    [theme=dark] .colab-df-convert {\n",
              "      background-color: #3B4455;\n",
              "      fill: #D2E3FC;\n",
              "    }\n",
              "\n",
              "    [theme=dark] .colab-df-convert:hover {\n",
              "      background-color: #434B5C;\n",
              "      box-shadow: 0px 1px 3px 1px rgba(0, 0, 0, 0.15);\n",
              "      filter: drop-shadow(0px 1px 2px rgba(0, 0, 0, 0.3));\n",
              "      fill: #FFFFFF;\n",
              "    }\n",
              "  </style>\n",
              "\n",
              "      <script>\n",
              "        const buttonEl =\n",
              "          document.querySelector('#df-d82b3f59-5372-431e-aa3a-6bf8dd8e62ea button.colab-df-convert');\n",
              "        buttonEl.style.display =\n",
              "          google.colab.kernel.accessAllowed ? 'block' : 'none';\n",
              "\n",
              "        async function convertToInteractive(key) {\n",
              "          const element = document.querySelector('#df-d82b3f59-5372-431e-aa3a-6bf8dd8e62ea');\n",
              "          const dataTable =\n",
              "            await google.colab.kernel.invokeFunction('convertToInteractive',\n",
              "                                                     [key], {});\n",
              "          if (!dataTable) return;\n",
              "\n",
              "          const docLinkHtml = 'Like what you see? Visit the ' +\n",
              "            '<a target=\"_blank\" href=https://colab.research.google.com/notebooks/data_table.ipynb>data table notebook</a>'\n",
              "            + ' to learn more about interactive tables.';\n",
              "          element.innerHTML = '';\n",
              "          dataTable['output_type'] = 'display_data';\n",
              "          await google.colab.output.renderOutput(dataTable, element);\n",
              "          const docLink = document.createElement('div');\n",
              "          docLink.innerHTML = docLinkHtml;\n",
              "          element.appendChild(docLink);\n",
              "        }\n",
              "      </script>\n",
              "    </div>\n",
              "  </div>\n",
              "  "
            ],
            "text/plain": [
              "              global_value  cm_value  ...  ce_value  ca50_value\n",
              "global_value      1.000000  0.848222  ...  0.199344    0.500225\n",
              "cm_value          0.848222  1.000000  ...  0.341865    0.711714\n",
              "cmo_value         0.957673  0.666429  ...  0.059788    0.339555\n",
              "cda_value         0.642231  0.482311  ...  0.334430    0.175607\n",
              "ce_value          0.199344  0.341865  ...  1.000000    0.192471\n",
              "ca50_value        0.500225  0.711714  ...  0.192471    1.000000\n",
              "\n",
              "[6 rows x 6 columns]"
            ]
          },
          "metadata": {},
          "execution_count": 15
        }
      ]
    },
    {
      "cell_type": "code",
      "source": [
        "#plotando com seaborn\n",
        "plt.figure(figsize=(8, 6))\n",
        "\n",
        "\n",
        "cmap = \"YlOrBr\"\n",
        "sns.heatmap(corr_df, annot=True,  linewidths = .3, cmap = cmap)\n",
        "\n",
        "plt.show()"
      ],
      "metadata": {
        "colab": {
          "base_uri": "https://localhost:8080/",
          "height": 379
        },
        "id": "zISwX4MTBn9e",
        "outputId": "0e61d4e5-4356-41d8-bc5d-1cb49806948a"
      },
      "execution_count": null,
      "outputs": [
        {
          "output_type": "display_data",
          "data": {
            "image/png": "[encoded data removed]",
            "text/plain": [
              "<Figure size 576x432 with 2 Axes>"
            ]
          },
          "metadata": {
            "needs_background": "light"
          }
        }
      ]
    },
    {
      "cell_type": "markdown",
      "metadata": {
        "id": "AJIItT7jJaxp"
      },
      "source": [
        "#<font color='DarkBlue'>Perguntas de negócio"
      ]
    },
    {
      "cell_type": "markdown",
      "metadata": {
        "id": "TlU4AuGzJk_3"
      },
      "source": [
        "## 1.Quais são os 3 estados com menor custo atual?"
      ]
    },
    {
      "cell_type": "markdown",
      "metadata": {
        "id": "0CBAAgwZ_fJZ"
      },
      "source": [
        "Filtrando os dados de 2021"
      ]
    },
    {
      "cell_type": "code",
      "metadata": {
        "colab": {
          "base_uri": "https://localhost:8080/",
          "height": 449
        },
        "id": "v5Vs63sHvIM_",
        "outputId": "c0c790e9-175a-440a-f090-e90a64d99c7a"
      },
      "source": [
        "dados_2021 = df[df['year'] > 2020]\n",
        "dados_2021"
      ],
      "execution_count": null,
      "outputs": [
        {
          "output_type": "error",
          "ename": "TypeError",
          "evalue": "ignored",
          "traceback": [
            "\u001b[0;31m---------------------------------------------------------------------------\u001b[0m",
            "\u001b[0;31mInvalidComparison\u001b[0m                         Traceback (most recent call last)",
            "\u001b[0;32m/usr/local/lib/python3.7/dist-packages/pandas/core/arrays/datetimelike.py\u001b[0m in \u001b[0;36mwrapper\u001b[0;34m(self, other)\u001b[0m\n\u001b[1;32m    115\u001b[0m         \u001b[0;32mtry\u001b[0m\u001b[0;34m:\u001b[0m\u001b[0;34m\u001b[0m\u001b[0;34m\u001b[0m\u001b[0m\n\u001b[0;32m--> 116\u001b[0;31m             \u001b[0mother\u001b[0m \u001b[0;34m=\u001b[0m \u001b[0m_validate_comparison_value\u001b[0m\u001b[0;34m(\u001b[0m\u001b[0mself\u001b[0m\u001b[0;34m,\u001b[0m \u001b[0mother\u001b[0m\u001b[0;34m)\u001b[0m\u001b[0;34m\u001b[0m\u001b[0;34m\u001b[0m\u001b[0m\n\u001b[0m\u001b[1;32m    117\u001b[0m         \u001b[0;32mexcept\u001b[0m \u001b[0mInvalidComparison\u001b[0m\u001b[0;34m:\u001b[0m\u001b[0;34m\u001b[0m\u001b[0;34m\u001b[0m\u001b[0m\n",
            "\u001b[0;32m/usr/local/lib/python3.7/dist-packages/pandas/core/arrays/datetimelike.py\u001b[0m in \u001b[0;36m_validate_comparison_value\u001b[0;34m(self, other)\u001b[0m\n\u001b[1;32m     95\u001b[0m         \u001b[0;32melif\u001b[0m \u001b[0;32mnot\u001b[0m \u001b[0mis_list_like\u001b[0m\u001b[0;34m(\u001b[0m\u001b[0mother\u001b[0m\u001b[0;34m)\u001b[0m\u001b[0;34m:\u001b[0m\u001b[0;34m\u001b[0m\u001b[0;34m\u001b[0m\u001b[0m\n\u001b[0;32m---> 96\u001b[0;31m             \u001b[0;32mraise\u001b[0m \u001b[0mInvalidComparison\u001b[0m\u001b[0;34m(\u001b[0m\u001b[0mother\u001b[0m\u001b[0;34m)\u001b[0m\u001b[0;34m\u001b[0m\u001b[0;34m\u001b[0m\u001b[0m\n\u001b[0m\u001b[1;32m     97\u001b[0m \u001b[0;34m\u001b[0m\u001b[0m\n",
            "\u001b[0;31mInvalidComparison\u001b[0m: 2020",
            "\nDuring handling of the above exception, another exception occurred:\n",
            "\u001b[0;31mTypeError\u001b[0m                                 Traceback (most recent call last)",
            "\u001b[0;32m<ipython-input-17-06ea5ff7a88d>\u001b[0m in \u001b[0;36m<module>\u001b[0;34m()\u001b[0m\n\u001b[0;32m----> 1\u001b[0;31m \u001b[0mdados_2021\u001b[0m \u001b[0;34m=\u001b[0m \u001b[0mdf\u001b[0m\u001b[0;34m[\u001b[0m\u001b[0mdf\u001b[0m\u001b[0;34m[\u001b[0m\u001b[0;34m'year'\u001b[0m\u001b[0;34m]\u001b[0m \u001b[0;34m>\u001b[0m \u001b[0;36m2020\u001b[0m\u001b[0;34m]\u001b[0m\u001b[0;34m\u001b[0m\u001b[0;34m\u001b[0m\u001b[0m\n\u001b[0m\u001b[1;32m      2\u001b[0m \u001b[0mdados_2021\u001b[0m\u001b[0;34m\u001b[0m\u001b[0;34m\u001b[0m\u001b[0m\n",
            "\u001b[0;32m/usr/local/lib/python3.7/dist-packages/pandas/core/ops/common.py\u001b[0m in \u001b[0;36mnew_method\u001b[0;34m(self, other)\u001b[0m\n\u001b[1;32m     63\u001b[0m         \u001b[0mother\u001b[0m \u001b[0;34m=\u001b[0m \u001b[0mitem_from_zerodim\u001b[0m\u001b[0;34m(\u001b[0m\u001b[0mother\u001b[0m\u001b[0;34m)\u001b[0m\u001b[0;34m\u001b[0m\u001b[0;34m\u001b[0m\u001b[0m\n\u001b[1;32m     64\u001b[0m \u001b[0;34m\u001b[0m\u001b[0m\n\u001b[0;32m---> 65\u001b[0;31m         \u001b[0;32mreturn\u001b[0m \u001b[0mmethod\u001b[0m\u001b[0;34m(\u001b[0m\u001b[0mself\u001b[0m\u001b[0;34m,\u001b[0m \u001b[0mother\u001b[0m\u001b[0;34m)\u001b[0m\u001b[0;34m\u001b[0m\u001b[0;34m\u001b[0m\u001b[0m\n\u001b[0m\u001b[1;32m     66\u001b[0m \u001b[0;34m\u001b[0m\u001b[0m\n\u001b[1;32m     67\u001b[0m     \u001b[0;32mreturn\u001b[0m \u001b[0mnew_method\u001b[0m\u001b[0;34m\u001b[0m\u001b[0;34m\u001b[0m\u001b[0m\n",
            "\u001b[0;32m/usr/local/lib/python3.7/dist-packages/pandas/core/ops/__init__.py\u001b[0m in \u001b[0;36mwrapper\u001b[0;34m(self, other)\u001b[0m\n\u001b[1;32m    368\u001b[0m         \u001b[0mrvalues\u001b[0m \u001b[0;34m=\u001b[0m \u001b[0mextract_array\u001b[0m\u001b[0;34m(\u001b[0m\u001b[0mother\u001b[0m\u001b[0;34m,\u001b[0m \u001b[0mextract_numpy\u001b[0m\u001b[0;34m=\u001b[0m\u001b[0;32mTrue\u001b[0m\u001b[0;34m)\u001b[0m\u001b[0;34m\u001b[0m\u001b[0;34m\u001b[0m\u001b[0m\n\u001b[1;32m    369\u001b[0m \u001b[0;34m\u001b[0m\u001b[0m\n\u001b[0;32m--> 370\u001b[0;31m         \u001b[0mres_values\u001b[0m \u001b[0;34m=\u001b[0m \u001b[0mcomparison_op\u001b[0m\u001b[0;34m(\u001b[0m\u001b[0mlvalues\u001b[0m\u001b[0;34m,\u001b[0m \u001b[0mrvalues\u001b[0m\u001b[0;34m,\u001b[0m \u001b[0mop\u001b[0m\u001b[0;34m)\u001b[0m\u001b[0;34m\u001b[0m\u001b[0;34m\u001b[0m\u001b[0m\n\u001b[0m\u001b[1;32m    371\u001b[0m \u001b[0;34m\u001b[0m\u001b[0m\n\u001b[1;32m    372\u001b[0m         \u001b[0;32mreturn\u001b[0m \u001b[0mself\u001b[0m\u001b[0;34m.\u001b[0m\u001b[0m_construct_result\u001b[0m\u001b[0;34m(\u001b[0m\u001b[0mres_values\u001b[0m\u001b[0;34m,\u001b[0m \u001b[0mname\u001b[0m\u001b[0;34m=\u001b[0m\u001b[0mres_name\u001b[0m\u001b[0;34m)\u001b[0m\u001b[0;34m\u001b[0m\u001b[0;34m\u001b[0m\u001b[0m\n",
            "\u001b[0;32m/usr/local/lib/python3.7/dist-packages/pandas/core/ops/array_ops.py\u001b[0m in \u001b[0;36mcomparison_op\u001b[0;34m(left, right, op)\u001b[0m\n\u001b[1;32m    228\u001b[0m     \u001b[0;32mif\u001b[0m \u001b[0mshould_extension_dispatch\u001b[0m\u001b[0;34m(\u001b[0m\u001b[0mlvalues\u001b[0m\u001b[0;34m,\u001b[0m \u001b[0mrvalues\u001b[0m\u001b[0;34m)\u001b[0m\u001b[0;34m:\u001b[0m\u001b[0;34m\u001b[0m\u001b[0;34m\u001b[0m\u001b[0m\n\u001b[1;32m    229\u001b[0m         \u001b[0;31m# Call the method on lvalues\u001b[0m\u001b[0;34m\u001b[0m\u001b[0;34m\u001b[0m\u001b[0;34m\u001b[0m\u001b[0m\n\u001b[0;32m--> 230\u001b[0;31m         \u001b[0mres_values\u001b[0m \u001b[0;34m=\u001b[0m \u001b[0mop\u001b[0m\u001b[0;34m(\u001b[0m\u001b[0mlvalues\u001b[0m\u001b[0;34m,\u001b[0m \u001b[0mrvalues\u001b[0m\u001b[0;34m)\u001b[0m\u001b[0;34m\u001b[0m\u001b[0;34m\u001b[0m\u001b[0m\n\u001b[0m\u001b[1;32m    231\u001b[0m \u001b[0;34m\u001b[0m\u001b[0m\n\u001b[1;32m    232\u001b[0m     \u001b[0;32melif\u001b[0m \u001b[0mis_scalar\u001b[0m\u001b[0;34m(\u001b[0m\u001b[0mrvalues\u001b[0m\u001b[0;34m)\u001b[0m \u001b[0;32mand\u001b[0m \u001b[0misna\u001b[0m\u001b[0;34m(\u001b[0m\u001b[0mrvalues\u001b[0m\u001b[0;34m)\u001b[0m\u001b[0;34m:\u001b[0m\u001b[0;34m\u001b[0m\u001b[0;34m\u001b[0m\u001b[0m\n",
            "\u001b[0;32m/usr/local/lib/python3.7/dist-packages/pandas/core/ops/common.py\u001b[0m in \u001b[0;36mnew_method\u001b[0;34m(self, other)\u001b[0m\n\u001b[1;32m     63\u001b[0m         \u001b[0mother\u001b[0m \u001b[0;34m=\u001b[0m \u001b[0mitem_from_zerodim\u001b[0m\u001b[0;34m(\u001b[0m\u001b[0mother\u001b[0m\u001b[0;34m)\u001b[0m\u001b[0;34m\u001b[0m\u001b[0;34m\u001b[0m\u001b[0m\n\u001b[1;32m     64\u001b[0m \u001b[0;34m\u001b[0m\u001b[0m\n\u001b[0;32m---> 65\u001b[0;31m         \u001b[0;32mreturn\u001b[0m \u001b[0mmethod\u001b[0m\u001b[0;34m(\u001b[0m\u001b[0mself\u001b[0m\u001b[0;34m,\u001b[0m \u001b[0mother\u001b[0m\u001b[0;34m)\u001b[0m\u001b[0;34m\u001b[0m\u001b[0;34m\u001b[0m\u001b[0m\n\u001b[0m\u001b[1;32m     66\u001b[0m \u001b[0;34m\u001b[0m\u001b[0m\n\u001b[1;32m     67\u001b[0m     \u001b[0;32mreturn\u001b[0m \u001b[0mnew_method\u001b[0m\u001b[0;34m\u001b[0m\u001b[0;34m\u001b[0m\u001b[0m\n",
            "\u001b[0;32m/usr/local/lib/python3.7/dist-packages/pandas/core/arrays/datetimelike.py\u001b[0m in \u001b[0;36mwrapper\u001b[0;34m(self, other)\u001b[0m\n\u001b[1;32m    116\u001b[0m             \u001b[0mother\u001b[0m \u001b[0;34m=\u001b[0m \u001b[0m_validate_comparison_value\u001b[0m\u001b[0;34m(\u001b[0m\u001b[0mself\u001b[0m\u001b[0;34m,\u001b[0m \u001b[0mother\u001b[0m\u001b[0;34m)\u001b[0m\u001b[0;34m\u001b[0m\u001b[0;34m\u001b[0m\u001b[0m\n\u001b[1;32m    117\u001b[0m         \u001b[0;32mexcept\u001b[0m \u001b[0mInvalidComparison\u001b[0m\u001b[0;34m:\u001b[0m\u001b[0;34m\u001b[0m\u001b[0;34m\u001b[0m\u001b[0m\n\u001b[0;32m--> 118\u001b[0;31m             \u001b[0;32mreturn\u001b[0m \u001b[0minvalid_comparison\u001b[0m\u001b[0;34m(\u001b[0m\u001b[0mself\u001b[0m\u001b[0;34m,\u001b[0m \u001b[0mother\u001b[0m\u001b[0;34m,\u001b[0m \u001b[0mop\u001b[0m\u001b[0;34m)\u001b[0m\u001b[0;34m\u001b[0m\u001b[0;34m\u001b[0m\u001b[0m\n\u001b[0m\u001b[1;32m    119\u001b[0m \u001b[0;34m\u001b[0m\u001b[0m\n\u001b[1;32m    120\u001b[0m         \u001b[0mdtype\u001b[0m \u001b[0;34m=\u001b[0m \u001b[0mgetattr\u001b[0m\u001b[0;34m(\u001b[0m\u001b[0mother\u001b[0m\u001b[0;34m,\u001b[0m \u001b[0;34m\"dtype\"\u001b[0m\u001b[0;34m,\u001b[0m \u001b[0;32mNone\u001b[0m\u001b[0;34m)\u001b[0m\u001b[0;34m\u001b[0m\u001b[0;34m\u001b[0m\u001b[0m\n",
            "\u001b[0;32m/usr/local/lib/python3.7/dist-packages/pandas/core/ops/invalid.py\u001b[0m in \u001b[0;36minvalid_comparison\u001b[0;34m(left, right, op)\u001b[0m\n\u001b[1;32m     32\u001b[0m     \u001b[0;32melse\u001b[0m\u001b[0;34m:\u001b[0m\u001b[0;34m\u001b[0m\u001b[0;34m\u001b[0m\u001b[0m\n\u001b[1;32m     33\u001b[0m         \u001b[0mtyp\u001b[0m \u001b[0;34m=\u001b[0m \u001b[0mtype\u001b[0m\u001b[0;34m(\u001b[0m\u001b[0mright\u001b[0m\u001b[0;34m)\u001b[0m\u001b[0;34m.\u001b[0m\u001b[0m__name__\u001b[0m\u001b[0;34m\u001b[0m\u001b[0;34m\u001b[0m\u001b[0m\n\u001b[0;32m---> 34\u001b[0;31m         \u001b[0;32mraise\u001b[0m \u001b[0mTypeError\u001b[0m\u001b[0;34m(\u001b[0m\u001b[0;34mf\"Invalid comparison between dtype={left.dtype} and {typ}\"\u001b[0m\u001b[0;34m)\u001b[0m\u001b[0;34m\u001b[0m\u001b[0;34m\u001b[0m\u001b[0m\n\u001b[0m\u001b[1;32m     35\u001b[0m     \u001b[0;32mreturn\u001b[0m \u001b[0mres_values\u001b[0m\u001b[0;34m\u001b[0m\u001b[0;34m\u001b[0m\u001b[0m\n\u001b[1;32m     36\u001b[0m \u001b[0;34m\u001b[0m\u001b[0m\n",
            "\u001b[0;31mTypeError\u001b[0m: Invalid comparison between dtype=datetime64[ns] and int"
          ]
        }
      ]
    },
    {
      "cell_type": "code",
      "metadata": {
        "id": "rlNkECVb_vLM"
      },
      "source": [
        ""
      ],
      "execution_count": null,
      "outputs": []
    },
    {
      "cell_type": "markdown",
      "metadata": {
        "id": "KrQsKov6LNZs"
      },
      "source": [
        "# <font color = 'Red'>**Considerações e anotações.**"
      ]
    },
    {
      "cell_type": "markdown",
      "metadata": {
        "id": "oRnVJLxDOOyt"
      },
      "source": [
        "*   Eu **poderia** usar o arquivo direto no Power B.I, mas qual seria a **graça**?! O intuito desse notebook é treinar.\n",
        "*   Data analisys não é Storytelling, mas eu quis pelo menos deixar este notebook claro para minha leitura posterior e para divulgação.\n",
        "* Tentar colocar visualizações de outras bibliotecas(ggplot,bokeh)\n",
        "* Só para efeito de nota, essas seções que o colab criam me irritam **muito** 😠 (28/11)\n",
        " *Resolvido (28/11)  \n",
        "* Pelo fato dos dados estarem distribuidos ao longo de um período (série temporal) todos os valores podem ter uma grande diferença (entre o primeiro período de aquisição e o último). Para este caso, deve-se tomar cuidado com análises estatísticas e possíveis falsos-positivos de outliers.\n",
        "      \n",
        "\n",
        " \n",
        "\n",
        "\n",
        "> ***Quais perguntas de negócios quero responder:*** \n",
        ">1. Quais são os 3 estados com menor custo atual?\n",
        ">2. Quais são os 3 estados com maior custo atual?\n",
        ">3. A tendência de aumento/queda nos preços manteve um padrão?\n",
        ">4. Qual relação podemos fazer com outras fontes de dados? (Ex: preço do aço,juros,PIB,inflação,etc)\n",
        ">5. Prever os preços para 3 meses"
      ]
    },
    {
      "cell_type": "markdown",
      "source": [
        "###<font color='Gray'>**Outras notas** ### \n",
        "\n",
        "* 30/11- Seria interessante (para um estudo futuro), cruzar informações de fornecedores de 'aço ca50 10mm' para verificar se há alguma correlação com os preços praticados por estado (talvez geolocalização)\n",
        "\n",
        "\n",
        "* 30/11- Relacionar este indicador com outros indicadores econômicos (juros,PIB,inflação,etc)\n",
        "\n",
        "* 12/12- Esclarecer como o índice é calculado. (Ex: projeto de casa 'padrão')-> Talvez fique para o artigo/publicação\n",
        "\n",
        "* 28/01- Introduzir/aperfeiçoar análise estatística (range, desvios, etc)"
      ],
      "metadata": {
        "id": "laCL5FKA4qnz"
      }
    },
    {
      "cell_type": "code",
      "metadata": {
        "id": "wqzrjMmEuXvi"
      },
      "source": [
        "#lembre que tem uma página no Notion para anotações para futura publicação\n",
        "#plotar para visualizar/analisar os dados (Plot Serie Temporal,gráfico de linha)\n",
        "#lembrar explicar sobre como o custo é calculado: talvez isso fique para a\n",
        "#publicação/artigo\n",
        "#devo transformar o df em series?\n",
        "\n",
        "\n",
        "\n"
      ],
      "execution_count": null,
      "outputs": []
    }
  ]
}